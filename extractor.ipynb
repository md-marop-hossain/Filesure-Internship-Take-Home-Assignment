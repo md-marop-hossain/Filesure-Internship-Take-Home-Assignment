{
  "nbformat": 4,
  "nbformat_minor": 0,
  "metadata": {
    "colab": {
      "provenance": [],
      "gpuType": "V28",
      "authorship_tag": "ABX9TyP4gCx3wzHwsvn34md8QyYb",
      "include_colab_link": true
    },
    "kernelspec": {
      "name": "python3",
      "display_name": "Python 3"
    },
    "language_info": {
      "name": "python"
    },
    "accelerator": "TPU"
  },
  "cells": [
    {
      "cell_type": "markdown",
      "metadata": {
        "id": "view-in-github",
        "colab_type": "text"
      },
      "source": [
        "<a href=\"https://colab.research.google.com/github/md-marop-hossain/Filesure-Internship-Take-Home-Assignment/blob/main/extractor.ipynb\" target=\"_parent\"><img src=\"https://colab.research.google.com/assets/colab-badge.svg\" alt=\"Open In Colab\"/></a>"
      ]
    },
    {
      "cell_type": "markdown",
      "source": [
        "The file **\"Form ADT-1-29092023_signed.pdf\"** contains some input field text in the form section that **cannot be selected or copied** because it is actually a **scanned image** of a document. Libraries like **PyMuPDF, pdfplumber, and pdfminer.six** can only extract **machine-readable text**—they cannot interpret:\n",
        "*   Pixel-based text in scanned documents\n",
        "*   Text embedded within images\n",
        "\n",
        "To handle this unselectable content, I used an **OCR solution that combines Tesseract with Poppler**.\n",
        "\n",
        "This OCR setup uses **Poppler, Tesseract, and PDF2Image** to extract text from scanned PDFs by converting pages into images and recognizing text automatically. It works well with complex layouts, and multiple pages.\n"
      ],
      "metadata": {
        "id": "hi5MkF8K_51V"
      }
    },
    {
      "cell_type": "markdown",
      "source": [
        "# **Install Python Libraries**"
      ],
      "metadata": {
        "id": "rjzT8cukEEar"
      }
    },
    {
      "cell_type": "code",
      "source": [
        "!apt-get install -y tesseract-ocr\n",
        "!apt-get install -y poppler-utils\n",
        "!pip install pytesseract pdf2image Pillow"
      ],
      "metadata": {
        "colab": {
          "base_uri": "https://localhost:8080/"
        },
        "collapsed": true,
        "id": "XqD6wgTfRYkq",
        "outputId": "c5d34b14-0d2a-42d0-a063-05a331381b48"
      },
      "execution_count": 9,
      "outputs": [
        {
          "output_type": "stream",
          "name": "stdout",
          "text": [
            "Reading package lists... Done\n",
            "Building dependency tree... Done\n",
            "Reading state information... Done\n",
            "tesseract-ocr is already the newest version (4.1.1-2.1build1).\n",
            "0 upgraded, 0 newly installed, 0 to remove and 35 not upgraded.\n",
            "Reading package lists... Done\n",
            "Building dependency tree... Done\n",
            "Reading state information... Done\n",
            "poppler-utils is already the newest version (22.02.0-2ubuntu0.8).\n",
            "0 upgraded, 0 newly installed, 0 to remove and 35 not upgraded.\n",
            "Requirement already satisfied: pytesseract in /usr/local/lib/python3.11/dist-packages (0.3.13)\n",
            "Requirement already satisfied: pdf2image in /usr/local/lib/python3.11/dist-packages (1.17.0)\n",
            "Requirement already satisfied: Pillow in /usr/local/lib/python3.11/dist-packages (11.2.1)\n",
            "Requirement already satisfied: packaging>=21.3 in /usr/local/lib/python3.11/dist-packages (from pytesseract) (24.2)\n"
          ]
        }
      ]
    },
    {
      "cell_type": "markdown",
      "source": [
        "**for using AI model**"
      ],
      "metadata": {
        "id": "YmSqWFW_EJg7"
      }
    },
    {
      "cell_type": "code",
      "source": [
        "!pip install -q -U groq"
      ],
      "metadata": {
        "id": "wuxRH9w0g75G"
      },
      "execution_count": 10,
      "outputs": []
    },
    {
      "cell_type": "markdown",
      "source": [
        "# **Extract Structured data from PDF**"
      ],
      "metadata": {
        "id": "NKzSTaE29lzt"
      }
    },
    {
      "cell_type": "code",
      "execution_count": 11,
      "metadata": {
        "colab": {
          "base_uri": "https://localhost:8080/"
        },
        "id": "zqLhdslZQYt_",
        "outputId": "0fa23966-8081-41e4-f116-e66c24c0bbe5"
      },
      "outputs": [
        {
          "output_type": "stream",
          "name": "stdout",
          "text": [
            "Extraction complete. Data saved to 'output.json'\n"
          ]
        }
      ],
      "source": [
        "import os\n",
        "import re\n",
        "import json\n",
        "import pytesseract\n",
        "from pdf2image import convert_from_path\n",
        "\n",
        "def extract_text_with_ocr(pdf_path):\n",
        "    if not os.path.exists(pdf_path):\n",
        "        raise FileNotFoundError(f\"File not found: {pdf_path}\")\n",
        "    try:\n",
        "        images = convert_from_path(pdf_path)\n",
        "        full_text = \"\"\n",
        "        for i, img in enumerate(images, start=1):\n",
        "            page_text = pytesseract.image_to_string(img, lang='eng')\n",
        "            full_text += page_text + \"\\n\"\n",
        "        return full_text\n",
        "    except Exception as e:\n",
        "        raise RuntimeError(f\"OCR extraction failed: {e}\")\n",
        "\n",
        "def parse_and_clean_adt1_data(text):\n",
        "    data = {\n",
        "        \"company_name\": \"\",\n",
        "        \"cin\": \"\",\n",
        "        \"registered_office\": \"\",\n",
        "        \"appointment_date\": \"\",\n",
        "        \"auditor_name\": \"\",\n",
        "        \"auditor_address\": \"\",\n",
        "        \"auditor_frn_or_membership\": \"\",\n",
        "        \"appointment_type\": \"New Appointment\"\n",
        "    }\n",
        "\n",
        "    def find_between(start, end, block):\n",
        "        pattern = re.escape(start) + r'(.*?)' + re.escape(end)\n",
        "        match = re.search(pattern, block, re.DOTALL | re.IGNORECASE)\n",
        "        return match.group(1) if match else \"\"\n",
        "\n",
        "    def search_pattern(pat, block):\n",
        "        match = re.search(pat, block, re.IGNORECASE)\n",
        "        return match.group(1) if match and match.groups() else (match.group(0) if match else \"\")\n",
        "\n",
        "    raw_cin       = search_pattern(r'(U74999[A-Z0-9]{15})', text)\n",
        "    raw_company   = find_between(\"Name of the company\", \"Address of the registered office\", text)\n",
        "    raw_office    = find_between(\"Address of the registered office\", \"email id of the company\", text)\n",
        "    raw_date      = search_pattern(r'Date of appointment\\s*([\\d/]+)', text)\n",
        "    raw_auditor   = find_between(\"Name of the auditor or auditor's firm\", \"Membership Number\", text)\n",
        "    raw_frn       = find_between(\"firm's registration number\", \"Address of the Auditor\", text)\n",
        "    raw_address   = find_between(\"Address of the Auditor\", \"email id of the auditor\", text)\n",
        "\n",
        "    def advanced_clean(s):\n",
        "        if not s:\n",
        "            return \"\"\n",
        "        cleaned = re.sub(r'\\s+', ' ', s).strip()\n",
        "        cleaned = re.sub(r'\\bor auditor\\'s firm\\b', '', cleaned, flags=re.IGNORECASE)\n",
        "        cleaned = re.sub(r'\\([a-z]\\)', '', cleaned)\n",
        "        cleaned = re.sub(r'[\\[\\]]', '', cleaned)\n",
        "        cleaned = re.sub(r'\\*+', '', cleaned)\n",
        "        cleaned = re.sub(r'Pre-fill', '', cleaned, flags=re.IGNORECASE)\n",
        "        cleaned = re.sub(r'of the company', '', cleaned, flags=re.IGNORECASE)\n",
        "        cleaned = re.sub(r'[“”]', '', cleaned)\n",
        "        return re.sub(r'\\s+', ' ', cleaned).strip()\n",
        "\n",
        "    def clean_address(s):\n",
        "        if not s:\n",
        "            return \"\"\n",
        "        cleaned = re.sub(r'Line\\s*[I|l|1]+\\s*/?', '', s, flags=re.IGNORECASE)\n",
        "        cleaned = re.sub(r'\\*City|\\*State|Country|\\*Pin code', '', cleaned, flags=re.IGNORECASE)\n",
        "        cleaned = re.sub(r'\\bor auditor\\'s firm\\b', '', cleaned, flags=re.IGNORECASE)\n",
        "        cleaned = re.sub(r'\\([a-z]\\)', '', cleaned)\n",
        "        cleaned = re.sub(r'\\|+', '', cleaned)\n",
        "        cleaned = re.sub(r'/+', ' ', cleaned)\n",
        "        cleaned = re.sub(r'(\\d+)\\s+(\\d+),', r'\\1/\\2,', cleaned)\n",
        "        cleaned = re.sub(r'[“”]', '', cleaned)\n",
        "        return re.sub(r'\\s+', ' ', cleaned).strip()\n",
        "\n",
        "    data[\"cin\"]                     = advanced_clean(raw_cin)\n",
        "    data[\"company_name\"]            = advanced_clean(raw_company)\n",
        "    data[\"registered_office\"]       = advanced_clean(raw_office)\n",
        "    data[\"appointment_date\"]        = advanced_clean(raw_date)\n",
        "    data[\"auditor_name\"]            = advanced_clean(raw_auditor)\n",
        "    data[\"auditor_frn_or_membership\"] = re.sub(r'[^A-Z0-9]', '', raw_frn).strip()\n",
        "    data[\"auditor_address\"]         = clean_address(raw_address)\n",
        "\n",
        "    if re.search(r\"tenure of previous appointment\", text, re.IGNORECASE):\n",
        "        data[\"appointment_type\"] = \"Reappointment\"\n",
        "\n",
        "    return data\n",
        "\n",
        "def main():\n",
        "    pdf_file    = \"Form ADT-1-29092023_signed.pdf\"\n",
        "    output_json = \"output.json\"\n",
        "\n",
        "    ocr_text    = extract_text_with_ocr(pdf_file)\n",
        "    structured  = parse_and_clean_adt1_data(ocr_text)\n",
        "\n",
        "    with open(output_json, 'w', encoding='utf-8') as f:\n",
        "        json.dump(structured, f, indent=4, ensure_ascii=False)\n",
        "\n",
        "    print(f\"Extraction complete. Data saved to '{output_json}'\")\n",
        "\n",
        "if __name__ == \"__main__\":\n",
        "    main()\n"
      ]
    },
    {
      "cell_type": "markdown",
      "source": [
        "# **Generate an AI-style summary based on the JSON using Groq API**"
      ],
      "metadata": {
        "id": "qhpO_i0Q9uz1"
      }
    },
    {
      "cell_type": "code",
      "source": [
        "import os\n",
        "import json\n",
        "from groq import Groq\n",
        "from google.colab import userdata\n",
        "from google.colab import files\n",
        "\n",
        "try:\n",
        "    api_key = userdata.get('GROQ_API_KEY')\n",
        "    client = Groq(api_key=api_key)\n",
        "    print(\"Groq API Key loaded and client initialized successfully.\")\n",
        "except userdata.SecretNotFoundError:\n",
        "    print(\"Error: Secret 'GROQ_API_KEY' not found.\")\n",
        "    print(\"Please follow the instructions in the cell comments to add your API key.\")\n",
        "except Exception as e:\n",
        "    print(f\"An unexpected error occurred while loading the secret: {e}\")\n",
        "\n",
        "\n",
        "json_file_path = \"/content/output.json\"\n",
        "print(f\"Path set to '{json_file_path}'.\")\n",
        "print(\"Please ensure the file exists at this path before proceeding.\")\n",
        "\n",
        "\n",
        "def generate_summary_with_groq(json_data):\n",
        "    if not json_data:\n",
        "        return \"No data to summarize.\"\n",
        "    prompt = f\"\"\"\n",
        "    Based on the following structured data, please generate a 3-5 line summary.\n",
        "    This summary should sound like it came from an AI assistant explaining a corporate filing\n",
        "    to a non-technical person.\n",
        "\n",
        "    JSON Data:\n",
        "    {json.dumps(json_data, indent=2)}\n",
        "\n",
        "    Example Summary Format:\n",
        "    \"XYZ Pvt Ltd has appointed M/s Rao & Associates as its statutory auditor for FY 2023-24,\n",
        "    effective from 1 July 2023. The appointment has been disclosed via Form ADT-1,\n",
        "    with all supporting documents submitted.\"\n",
        "    \"\"\"\n",
        "\n",
        "    try:\n",
        "        chat_completion = client.chat.completions.create(\n",
        "            messages=[\n",
        "                {\n",
        "                    \"role\": \"system\",\n",
        "                    \"content\": \"You are a helpful assistant that summarizes corporate filings for a non-technical audience.\"\n",
        "                },\n",
        "                {\n",
        "                    \"role\": \"user\",\n",
        "                    \"content\": prompt,\n",
        "                }\n",
        "            ],\n",
        "            model=\"llama3-8b-8192\",\n",
        "            temperature=0.7,\n",
        "            max_tokens=150,\n",
        "        )\n",
        "        return chat_completion.choices[0].message.content.strip()\n",
        "    except Exception as e:\n",
        "        return f\"An unexpected error occurred during the API call: {e}\"\n",
        "\n",
        "if json_file_path and 'client' in locals():\n",
        "    try:\n",
        "        with open(json_file_path, 'r', encoding='utf-8') as f:\n",
        "            extracted_data = json.load(f)\n",
        "\n",
        "        print(\"Generating summary with Groq...\")\n",
        "        summary = generate_summary_with_groq(extracted_data)\n",
        "\n",
        "        print(\"\\n--- AI-Generated Summary ---\")\n",
        "        print(summary)\n",
        "        print(\"--------------------------\\n\")\n",
        "        summary_filename = \"summary.txt\"\n",
        "        with open(summary_filename, \"w\") as f:\n",
        "            f.write(summary)\n",
        "        print(f\"Summary saved to '{summary_filename}'.\")\n",
        "        print(\"Initiating download...\")\n",
        "        files.download(summary_filename)\n",
        "\n",
        "    except FileNotFoundError:\n",
        "        print(f\"Error: The file '{json_file_path}' was not found. Please upload it before running this cell.\")\n",
        "    except json.JSONDecodeError:\n",
        "        print(f\"Error: Could not decode JSON from the file '{json_file_path}'.\")\n",
        "    except Exception as e:\n",
        "        print(f\"An unexpected error occurred during execution: {e}\")\n",
        "else:\n",
        "    print(\"Cannot proceed\")"
      ],
      "metadata": {
        "colab": {
          "base_uri": "https://localhost:8080/",
          "height": 263
        },
        "id": "j3SpDMMegpEe",
        "outputId": "dbda9608-e53c-49e1-8c91-3e091cf3d1e6"
      },
      "execution_count": 12,
      "outputs": [
        {
          "output_type": "stream",
          "name": "stdout",
          "text": [
            "Groq API Key loaded and client initialized successfully.\n",
            "Path set to '/content/output.json'.\n",
            "Please ensure the file exists at this path before proceeding.\n",
            "Generating summary with Groq...\n",
            "\n",
            "--- AI-Generated Summary ---\n",
            "Here is a summary of the corporate filing:\n",
            "\n",
            "\"Alupa Foods Private Limited has reappointed Mallya & Mallya as its statutory auditor, with effect from September 26, 2022. The auditor's address is 29/2, 1st Floor, Parijatha Complex, Race Course Road, Bangalore, Karnataka. This appointment has been disclosed through a regulatory filing.\"\n",
            "--------------------------\n",
            "\n",
            "Summary saved to 'summary.txt'.\n",
            "Initiating download...\n"
          ]
        },
        {
          "output_type": "display_data",
          "data": {
            "text/plain": [
              "<IPython.core.display.Javascript object>"
            ],
            "application/javascript": [
              "\n",
              "    async function download(id, filename, size) {\n",
              "      if (!google.colab.kernel.accessAllowed) {\n",
              "        return;\n",
              "      }\n",
              "      const div = document.createElement('div');\n",
              "      const label = document.createElement('label');\n",
              "      label.textContent = `Downloading \"${filename}\": `;\n",
              "      div.appendChild(label);\n",
              "      const progress = document.createElement('progress');\n",
              "      progress.max = size;\n",
              "      div.appendChild(progress);\n",
              "      document.body.appendChild(div);\n",
              "\n",
              "      const buffers = [];\n",
              "      let downloaded = 0;\n",
              "\n",
              "      const channel = await google.colab.kernel.comms.open(id);\n",
              "      // Send a message to notify the kernel that we're ready.\n",
              "      channel.send({})\n",
              "\n",
              "      for await (const message of channel.messages) {\n",
              "        // Send a message to notify the kernel that we're ready.\n",
              "        channel.send({})\n",
              "        if (message.buffers) {\n",
              "          for (const buffer of message.buffers) {\n",
              "            buffers.push(buffer);\n",
              "            downloaded += buffer.byteLength;\n",
              "            progress.value = downloaded;\n",
              "          }\n",
              "        }\n",
              "      }\n",
              "      const blob = new Blob(buffers, {type: 'application/binary'});\n",
              "      const a = document.createElement('a');\n",
              "      a.href = window.URL.createObjectURL(blob);\n",
              "      a.download = filename;\n",
              "      div.appendChild(a);\n",
              "      a.click();\n",
              "      div.remove();\n",
              "    }\n",
              "  "
            ]
          },
          "metadata": {}
        },
        {
          "output_type": "display_data",
          "data": {
            "text/plain": [
              "<IPython.core.display.Javascript object>"
            ],
            "application/javascript": [
              "download(\"download_29c29c35-3762-4bd4-8f40-aaefdced2424\", \"summary.txt\", 334)"
            ]
          },
          "metadata": {}
        }
      ]
    }
  ]
}